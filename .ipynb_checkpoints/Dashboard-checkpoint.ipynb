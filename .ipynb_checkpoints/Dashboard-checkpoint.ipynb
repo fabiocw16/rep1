{
 "cells": [
  {
   "cell_type": "code",
   "execution_count": 1,
   "metadata": {},
   "outputs": [],
   "source": [
    "# Pacotes\n",
    "\n",
    "import matplotlib.pyplot as plt\n",
    "import math\n",
    "import astropy.io as io\n",
    "from astropy.io import fits\n",
    "import numpy as np\n",
    "import glob\n",
    "import pandas as pd\n",
    "import re\n",
    "from numpy import zeros"
   ]
  },
  {
   "cell_type": "markdown",
   "metadata": {},
   "source": [
    "## VOU COMEÇAR SÓ ENTENDENDO OS COMANDOS, NESSA PARTE EU ATÉ FIZ A LISTA DE ARQUIVOS, MAS FOI DE UMA FORMA POUCO EFICIENTE, VI MAIS A FRENTE QUE TINHA UM JEITO MUITO MAIS FÁCIL."
   ]
  },
  {
   "cell_type": "code",
   "execution_count": 2,
   "metadata": {},
   "outputs": [
    {
     "name": "stdout",
     "output_type": "stream",
     "text": [
      "Filename: /home/fabio/Faculdade/Tratamento de Dados/Projeto/rep1/Imagens/xo2b/bias.B.0001.fits\n",
      "No.    Name      Ver    Type      Cards   Dimensions   Format\n",
      "  0  PRIMARY       1 PrimaryHDU     143   (1365, 1365)   float32   \n"
     ]
    },
    {
     "data": {
      "text/plain": [
       "SIMPLE  =                    T / Fits standard                                  \n",
       "BITPIX  =                  -32 / Bits per pixel                                 \n",
       "NAXIS   =                    2 / Number of axes                                 \n",
       "NAXIS1  =                 1365 / Axis length                                    \n",
       "NAXIS2  =                 1365 / Axis length                                    \n",
       "EXTEND  =                    F / File may contain extensions                    \n",
       "ORIGIN  = 'NOAO-IRAF FITS Image Kernel July 2003' / FITS file originator        \n",
       "DATE    = '2012-12-09T23:37:41' / Date FITS file was generated                  \n",
       "IRAF-TLM= '2012-12-09T23:38:45' / Time of last modification                     \n",
       "OBJECT  = 'zero    '           / Name of the object observed                    \n",
       "DETSIZE = '[1:4096,1:4096]'    / Detector size                                  \n",
       "CCDSUM  = '3 3     '           / CCD pixel summing                              \n",
       "CCDBIN1 =                    3 / Binning factor along axis 1                    \n",
       "CCDBIN2 =                    3 / Binning factor along axis 2                    \n",
       "FILENAME= 'bias.B.0001.fits'   / base filename at acquisition                   \n",
       "NCCDS   =                    1 / Number of CCDs                                 \n",
       "NAMPS   =                    2 / Number of amplifiers                           \n",
       "DARKCUR = '0.0     '           / Average dark current (e-/pixel/hour)           \n",
       "DARKTIME=                  0.1 / Dark time (seconds)                            \n",
       "DATE-OBS= '2012-12-09'         / UTC shutter opened                             \n",
       "DETECTOR= 'mont4k sn3088'      / Detector name                                  \n",
       "DETGAIN =                    5 / Video gain setting                             \n",
       "EXPREQ  =                  0.0 / Exposure time requested (seconds)              \n",
       "EXPTIME =                  0.0 / Exposure time (seconds)                        \n",
       "GAIN1   = '3.19    '           / Conversion gain (e-/DN) for amp 1              \n",
       "GAIN2   = '3.08    '           / Conversion gain (e-/DN) for amp 2              \n",
       "IMAGETYP= 'zero    '           / Image type                                     \n",
       "INSTRUME= 'mont4k  '           / Instrument name                                \n",
       "LOCTIME = '16:37:24'           / Local time at start of exposure                \n",
       "OBSERVAT= 'mtbigelow'          / Observatory                                    \n",
       "OBSERVER= 'Turner Teske'                                                        \n",
       "PCIFILE = 'pci2.lod'           / PCI board DSP code filename                    \n",
       "PIXSCAL1= '0.15    '           / Pixel scale for axis 1 (arcsec/unbinned pixel) \n",
       "PIXSCAL2= '0.15    '           / Pixel scale for axis 2 (arcsec/unbinned pixel) \n",
       "PIXSIZE1= '15.0    '           / Pixel size for axis 1 (microns)                \n",
       "PIXSIZE2= '15.0    '           / Pixel size for axis 2 (microns)                \n",
       "RDNOISE1= '6.3     '           / Read noise (electrons) for amp 1               \n",
       "RDNOISE2= '6.7     '           / Read noise (electrons) for amp 2               \n",
       "SITEELEV= '2510    '           / Altitude (meters)                              \n",
       "SITELAT = '32:24:59.3'         / Latitude (DD:MM:SS.S North)                    \n",
       "SITELONG= '110:44:04.3'        / Longitude (DD:MM:SS.S West)                    \n",
       "TELESCOP= 'bigelow-1.55m'      / Telescope name                                 \n",
       "TIME-OBS= '23:37:24.740'       / UTC at start of exposure                       \n",
       "TIMESYS = 'UTC     '           / Time system                                    \n",
       "TIMEZONE=                    7 / Local time zone                                \n",
       "TIMFILE = 'tim2_split.lod'     / Timing board DSP code filename                 \n",
       "UT      = '23:37:24.740'       / UTC at start of exposure                       \n",
       "UTC-OBS = '23:37:24.740'       / UTC at start of exposure                       \n",
       "UTILFILE= 'util2.lod'          / Utility board DSP code filename                \n",
       "VIDGAIN =                    5 / Video gain setting                             \n",
       "VIDSPEED=                    1 / Video speed setting                            \n",
       "ITL-HEAD= 'OK      '           / ITL Header flag                                \n",
       "N-AMPS-X=                    2 / Number of amplifiers in X                      \n",
       "N-AMPS-Y=                    1 / Number of amplifiers in Y                      \n",
       "N-DET-X =                    1 / Number of detectors in X                       \n",
       "N-DET-Y =                    1 / Number of detectors in Y                       \n",
       "NUM-AMPX=                    2 / Number of amplifiers in X                      \n",
       "NUM-AMPY=                    1 / Number of amplifiers in Y                      \n",
       "NUM-DETX=                    1 / Number of detectors in X                       \n",
       "NUM-DETY=                    1 / Number of detectors in Y                       \n",
       "REF-PIX1=                 2048 / Reference pixel 1                              \n",
       "REF-PIX2=                 2048 / Reference pixel 2                              \n",
       "SYS-MOD = '' / System module                                                    \n",
       "CAMTEMP =               -119.0 / Camera temperature in C                        \n",
       "DEWTEMP =               -197.0 / Dewar temperature in C                         \n",
       "XTKCOEF =          2.600000E-4                                                  \n",
       "BUNIT   = 'ADU     '           / Physical unit of array values                  \n",
       "COMMENT Image                                                                   \n",
       "CCDSIZE = '[1:4096,1:4096]'    / CCD size                                       \n",
       "AMPSEC  = '[1:4095,1:4095]'    / Amplifier section                              \n",
       "DETSEC  = '[1:4095,1:4095]'    / Detector section                               \n",
       "CCDSEC  = '[1:4095,1:4095]'    / CCD section                                    \n",
       "CCDSEC1 = '[1:683,1:1366]'     / CCD section with binning                       \n",
       "OVRSCAN1=                   20 / Overscan on axis 1                             \n",
       "OVRSCAN2=                    0 / Overscan on axis 2                             \n",
       "PRESCAN1=                    0 / Underscan on axis 1                            \n",
       "PRESCAN2=                    0 / Underscan on axis 2                            \n",
       "LTM1_1  =   0.3333333432674408 / CCD to image transformation                    \n",
       "LTM2_2  =   0.3333333432674408 / CCD to image transformation                    \n",
       "LTV1    =    0.333333343267441 / CCD to image transformation                    \n",
       "LTV2    =    0.333333313465118 / CCD to image transformation                    \n",
       "ATM1_1  =                    1 / CCD to amplifier transformation                \n",
       "ATM2_2  =                    1 / CCD to amplifier transformation                \n",
       "ATV1    =                    0 / CCD to amplifier transformation                \n",
       "ATV2    =                    0 / CCD to amplifier transformation                \n",
       "DTM1_1  =                    1 / CCD to detector transformation                 \n",
       "DTM2_2  =                    1 / CCD to detector transformation                 \n",
       "DTV1    =                    0 / CCD to detector transformation                 \n",
       "DTV2    =                    0 / CCD to detector transformation                 \n",
       "COMMENT WCS                                                                     \n",
       "EQUINOX =                 2000 / Equinox of WCS                                 \n",
       "WCSDIM  =                    2 / WCS Dimensionality                             \n",
       "CTYPE1  = 'RA---TNX'           / Coordinate type                                \n",
       "CTYPE2  = 'DEC--TNX'           / Coordinate type                                \n",
       "CRPIX1  =     682.333333343267 / Coordinate reference pixel                     \n",
       "CRPIX2  =     682.333333313465 / Coordinate reference pixel                     \n",
       "CD1_1   =          0.000119166 / Coordinate matrix                              \n",
       "CD2_2   =          0.000119166 / Coordinate matrix                              \n",
       "AMP-CFG =                    0 / Amplifier configuration                        \n",
       "DET-NUM =                    1 / Detector number                                \n",
       "EXT-NUM =                    1 / Extension number                               \n",
       "JPG-EXT =                    1 / Image section                                  \n",
       "DET-POSX=                    1 / Detector position in X                         \n",
       "DET-POSY=                    1 / Detector position in Y                         \n",
       "EXT-POSX=                    1 / Amplifier position in X                        \n",
       "EXT-POSY=                    1 / Amplifier position in Y                        \n",
       "AMP-PIX1=                    1 / Amplifier pixel position in X                  \n",
       "AMP-PIX2=                    1 / Amplifier pixel position in Y                  \n",
       "CDELT1  =  1.19166000000000E-4                                                  \n",
       "CDELT2  =  1.19166000000000E-4                                                  \n",
       "WAT0_001= 'system=image'                                                        \n",
       "WAT1_001= 'wtype=tnx axtype=ra'                                                 \n",
       "WAT2_001= 'wtype=tnx axtype=dec'                                                \n",
       "TRIM    = '[1:682,1:1365]'                                                      \n",
       "OVERSCAN= '[688:702,1:1365]'                                                    \n",
       "OVSCMED1=              926.872                                                  \n",
       "OVSCMED2=             917.9893                                                  \n",
       "                                                                                \n",
       "                                                                                \n",
       "                                                                                \n",
       "                                                                                \n",
       "                                                                                \n",
       "                                                                                \n",
       "                                                                                \n",
       "                                                                                \n",
       "                                                                                \n",
       "                                                                                \n",
       "                                                                                \n",
       "                                                                                \n",
       "                                                                                \n",
       "                                                                                \n",
       "                                                                                \n",
       "                                                                                \n",
       "                                                                                \n",
       "                                                                                \n",
       "                                                                                \n",
       "                                                                                \n",
       "                                                                                \n",
       "                                                                                \n",
       "                                                                                \n",
       "                                                                                \n",
       "                                                                                \n",
       "                                                                                "
      ]
     },
     "execution_count": 2,
     "metadata": {},
     "output_type": "execute_result"
    }
   ],
   "source": [
    "# Lendo uma imagem\n",
    "\n",
    "img,hdr=fits.getdata('/home/fabio/Faculdade/Tratamento de Dados/Projeto/rep1/Imagens/xo2b/bias.B.0001.fits',header=True)\n",
    "\n",
    "# Pegando informações do header\n",
    "\n",
    "hdul=fits.open('/home/fabio/Faculdade/Tratamento de Dados/Projeto/rep1/Imagens/xo2b/bias.B.0001.fits')\n",
    "\n",
    "hdul.info()\n",
    "\n",
    "hdul[0].header"
   ]
  },
  {
   "cell_type": "code",
   "execution_count": 3,
   "metadata": {},
   "outputs": [
    {
     "data": {
      "text/plain": [
       "<matplotlib.image.AxesImage at 0x7f4eb9008b38>"
      ]
     },
     "execution_count": 3,
     "metadata": {},
     "output_type": "execute_result"
    },
    {
     "data": {
      "image/png": "[encoded data removed]",
      "text/plain": [
       "<Figure size 432x288 with 1 Axes>"
      ]
     },
     "metadata": {},
     "output_type": "display_data"
    }
   ],
   "source": [
    "# Agora quero ver a imagem\n",
    "\n",
    "plt.imshow(img)"
   ]
  },
  {
   "cell_type": "code",
   "execution_count": 4,
   "metadata": {},
   "outputs": [
    {
     "name": "stdout",
     "output_type": "stream",
     "text": [
      "zero\n",
      "flat\n",
      "XO-2b\n"
     ]
    }
   ],
   "source": [
    "# Agora vou ver os tipos de objetos por nome, como vi acima o campo é 'Object'\n",
    "\n",
    "# BIAS\n",
    "\n",
    "hdul=fits.open('/home/fabio/Faculdade/Tratamento de Dados/Projeto/rep1/Imagens/xo2b/bias.B.0001.fits')\n",
    "print(hdul[0].header['Object'])\n",
    "\n",
    "# FLATS\n",
    "\n",
    "hdul=fits.open('/home/fabio/Faculdade/Tratamento de Dados/Projeto/rep1/Imagens/xo2b/flat.B.0001.fits')\n",
    "print(hdul[0].header['Object'])\n",
    "\n",
    "# Lights\n",
    "\n",
    "hdul=fits.open('/home/fabio/Faculdade/Tratamento de Dados/Projeto/rep1/Imagens/xo2b/xo2b.0002.fits')\n",
    "print(hdul[0].header['Object'])\n",
    "\n",
    "# Em geral dividiria por filtro também, mas não tem esse dado. Também não temos dados de darks,\n",
    "#assim a primeira tarefa é basicamente criar grupos de imagens a partir destes tipos."
   ]
  },
  {
   "cell_type": "code",
   "execution_count": 5,
   "metadata": {},
   "outputs": [
    {
     "name": "stdout",
     "output_type": "stream",
     "text": [
      "/home/fabio/Faculdade/Tratamento de Dados/Projeto/rep1/Imagens/xo2b/xo2b.0032.fits\n",
      "/home/fabio/Faculdade/Tratamento de Dados/Projeto/rep1/Imagens/xo2b/xo2b.0038.fits\n",
      "/home/fabio/Faculdade/Tratamento de Dados/Projeto/rep1/Imagens/xo2b/xo2b.0098.fits\n",
      "/home/fabio/Faculdade/Tratamento de Dados/Projeto/rep1/Imagens/xo2b/xo2b.0226.fits\n",
      "/home/fabio/Faculdade/Tratamento de Dados/Projeto/rep1/Imagens/xo2b/xo2b.0100.fits\n",
      "/home/fabio/Faculdade/Tratamento de Dados/Projeto/rep1/Imagens/xo2b/xo2b.0194.fits\n",
      "/home/fabio/Faculdade/Tratamento de Dados/Projeto/rep1/Imagens/xo2b/flat.B.0010.fits\n",
      "/home/fabio/Faculdade/Tratamento de Dados/Projeto/rep1/Imagens/xo2b/bias.B.0001.fits\n",
      "/home/fabio/Faculdade/Tratamento de Dados/Projeto/rep1/Imagens/xo2b/flat.B.0001.fits\n",
      "/home/fabio/Faculdade/Tratamento de Dados/Projeto/rep1/Imagens/xo2b/xo2b.0260.fits\n",
      "/home/fabio/Faculdade/Tratamento de Dados/Projeto/rep1/Imagens/xo2b/xo2b.0004.fits\n",
      "/home/fabio/Faculdade/Tratamento de Dados/Projeto/rep1/Imagens/xo2b/xo2b.0242.fits\n",
      "/home/fabio/Faculdade/Tratamento de Dados/Projeto/rep1/Imagens/xo2b/xo2b.0084.fits\n",
      "/home/fabio/Faculdade/Tratamento de Dados/Projeto/rep1/Imagens/xo2b/flat.B.0006.fits\n",
      "/home/fabio/Faculdade/Tratamento de Dados/Projeto/rep1/Imagens/xo2b/xo2b.0102.fits\n",
      "/home/fabio/Faculdade/Tratamento de Dados/Projeto/rep1/Imagens/xo2b/xo2b.0116.fits\n",
      "/home/fabio/Faculdade/Tratamento de Dados/Projeto/rep1/Imagens/xo2b/xo2b.0012.fits\n",
      "/home/fabio/Faculdade/Tratamento de Dados/Projeto/rep1/Imagens/xo2b/xo2b.0086.fits\n",
      "/home/fabio/Faculdade/Tratamento de Dados/Projeto/rep1/Imagens/xo2b/xo2b.0206.fits\n",
      "/home/fabio/Faculdade/Tratamento de Dados/Projeto/rep1/Imagens/xo2b/xo2b.0128.fits\n",
      "/home/fabio/Faculdade/Tratamento de Dados/Projeto/rep1/Imagens/xo2b/xo2b.0214.fits\n",
      "/home/fabio/Faculdade/Tratamento de Dados/Projeto/rep1/Imagens/xo2b/xo2b.0196.fits\n",
      "/home/fabio/Faculdade/Tratamento de Dados/Projeto/rep1/Imagens/xo2b/xo2b.0184.fits\n",
      "/home/fabio/Faculdade/Tratamento de Dados/Projeto/rep1/Imagens/xo2b/xo2b.0108.fits\n",
      "/home/fabio/Faculdade/Tratamento de Dados/Projeto/rep1/Imagens/xo2b/xo2b.0018.fits\n",
      "/home/fabio/Faculdade/Tratamento de Dados/Projeto/rep1/Imagens/xo2b/flat.B.0009.fits\n",
      "/home/fabio/Faculdade/Tratamento de Dados/Projeto/rep1/Imagens/xo2b/xo2b.0132.fits\n",
      "/home/fabio/Faculdade/Tratamento de Dados/Projeto/rep1/Imagens/xo2b/xo2b.0170.fits\n",
      "/home/fabio/Faculdade/Tratamento de Dados/Projeto/rep1/Imagens/xo2b/xo2b.0066.fits\n",
      "/home/fabio/Faculdade/Tratamento de Dados/Projeto/rep1/Imagens/xo2b/xo2b.0150.fits\n",
      "/home/fabio/Faculdade/Tratamento de Dados/Projeto/rep1/Imagens/xo2b/xo2b.0082.fits\n",
      "/home/fabio/Faculdade/Tratamento de Dados/Projeto/rep1/Imagens/xo2b/xo2b.0110.fits\n",
      "/home/fabio/Faculdade/Tratamento de Dados/Projeto/rep1/Imagens/xo2b/xo2b.0026.fits\n",
      "/home/fabio/Faculdade/Tratamento de Dados/Projeto/rep1/Imagens/xo2b/xo2b.0198.fits\n",
      "/home/fabio/Faculdade/Tratamento de Dados/Projeto/rep1/Imagens/xo2b/xo2b.0190.fits\n",
      "/home/fabio/Faculdade/Tratamento de Dados/Projeto/rep1/Imagens/xo2b/xo2b.0076.fits\n",
      "/home/fabio/Faculdade/Tratamento de Dados/Projeto/rep1/Imagens/xo2b/xo2b.0254.fits\n",
      "/home/fabio/Faculdade/Tratamento de Dados/Projeto/rep1/Imagens/xo2b/xo2b.0262.fits\n",
      "/home/fabio/Faculdade/Tratamento de Dados/Projeto/rep1/Imagens/xo2b/xo2b.0250.fits\n",
      "/home/fabio/Faculdade/Tratamento de Dados/Projeto/rep1/Imagens/xo2b/xo2b.0106.fits\n",
      "/home/fabio/Faculdade/Tratamento de Dados/Projeto/rep1/Imagens/xo2b/xo2b.0210.fits\n",
      "/home/fabio/Faculdade/Tratamento de Dados/Projeto/rep1/Imagens/xo2b/xo2b.0232.fits\n",
      "/home/fabio/Faculdade/Tratamento de Dados/Projeto/rep1/Imagens/xo2b/xo2b.0234.fits\n",
      "/home/fabio/Faculdade/Tratamento de Dados/Projeto/rep1/Imagens/xo2b/xo2b.0006.fits\n",
      "/home/fabio/Faculdade/Tratamento de Dados/Projeto/rep1/Imagens/xo2b/xo2b.0142.fits\n",
      "/home/fabio/Faculdade/Tratamento de Dados/Projeto/rep1/Imagens/xo2b/bias.B.0002.fits\n",
      "/home/fabio/Faculdade/Tratamento de Dados/Projeto/rep1/Imagens/xo2b/xo2b.0148.fits\n",
      "/home/fabio/Faculdade/Tratamento de Dados/Projeto/rep1/Imagens/xo2b/xo2b.0144.fits\n",
      "/home/fabio/Faculdade/Tratamento de Dados/Projeto/rep1/Imagens/xo2b/xo2b.0064.fits\n",
      "/home/fabio/Faculdade/Tratamento de Dados/Projeto/rep1/Imagens/xo2b/bias.B.0005.fits\n",
      "/home/fabio/Faculdade/Tratamento de Dados/Projeto/rep1/Imagens/xo2b/xo2b.0016.fits\n",
      "/home/fabio/Faculdade/Tratamento de Dados/Projeto/rep1/Imagens/xo2b/xo2b.0060.fits\n",
      "/home/fabio/Faculdade/Tratamento de Dados/Projeto/rep1/Imagens/xo2b/xo2b.0188.fits\n",
      "/home/fabio/Faculdade/Tratamento de Dados/Projeto/rep1/Imagens/xo2b/xo2b.0088.fits\n",
      "/home/fabio/Faculdade/Tratamento de Dados/Projeto/rep1/Imagens/xo2b/xo2b.0104.fits\n",
      "/home/fabio/Faculdade/Tratamento de Dados/Projeto/rep1/Imagens/xo2b/xo2b.0154.fits\n",
      "/home/fabio/Faculdade/Tratamento de Dados/Projeto/rep1/Imagens/xo2b/xo2b.0020.fits\n",
      "/home/fabio/Faculdade/Tratamento de Dados/Projeto/rep1/Imagens/xo2b/xo2b.0034.fits\n",
      "/home/fabio/Faculdade/Tratamento de Dados/Projeto/rep1/Imagens/xo2b/xo2b.0236.fits\n",
      "/home/fabio/Faculdade/Tratamento de Dados/Projeto/rep1/Imagens/xo2b/xo2b.0200.fits\n",
      "/home/fabio/Faculdade/Tratamento de Dados/Projeto/rep1/Imagens/xo2b/xo2b.0096.fits\n",
      "/home/fabio/Faculdade/Tratamento de Dados/Projeto/rep1/Imagens/xo2b/xo2b.0264.fits\n",
      "/home/fabio/Faculdade/Tratamento de Dados/Projeto/rep1/Imagens/xo2b/xo2b.0090.fits\n",
      "/home/fabio/Faculdade/Tratamento de Dados/Projeto/rep1/Imagens/xo2b/flat.B.0003.fits\n",
      "/home/fabio/Faculdade/Tratamento de Dados/Projeto/rep1/Imagens/xo2b/xo2b.0056.fits\n",
      "/home/fabio/Faculdade/Tratamento de Dados/Projeto/rep1/Imagens/xo2b/xo2b.0178.fits\n",
      "/home/fabio/Faculdade/Tratamento de Dados/Projeto/rep1/Imagens/xo2b/xo2b.0130.fits\n",
      "/home/fabio/Faculdade/Tratamento de Dados/Projeto/rep1/Imagens/xo2b/bias.B.0010.fits\n",
      "/home/fabio/Faculdade/Tratamento de Dados/Projeto/rep1/Imagens/xo2b/xo2b.0228.fits\n",
      "/home/fabio/Faculdade/Tratamento de Dados/Projeto/rep1/Imagens/xo2b/xo2b.0182.fits\n",
      "/home/fabio/Faculdade/Tratamento de Dados/Projeto/rep1/Imagens/xo2b/xo2b.0240.fits\n",
      "/home/fabio/Faculdade/Tratamento de Dados/Projeto/rep1/Imagens/xo2b/xo2b.0112.fits\n",
      "/home/fabio/Faculdade/Tratamento de Dados/Projeto/rep1/Imagens/xo2b/xo2b.0030.fits\n",
      "/home/fabio/Faculdade/Tratamento de Dados/Projeto/rep1/Imagens/xo2b/xo2b.0204.fits\n",
      "/home/fabio/Faculdade/Tratamento de Dados/Projeto/rep1/Imagens/xo2b/xo2b.0024.fits\n",
      "/home/fabio/Faculdade/Tratamento de Dados/Projeto/rep1/Imagens/xo2b/xo2b.0122.fits\n",
      "/home/fabio/Faculdade/Tratamento de Dados/Projeto/rep1/Imagens/xo2b/xo2b.0078.fits\n",
      "/home/fabio/Faculdade/Tratamento de Dados/Projeto/rep1/Imagens/xo2b/xo2b.0180.fits\n",
      "/home/fabio/Faculdade/Tratamento de Dados/Projeto/rep1/Imagens/xo2b/xo2b.0140.fits\n",
      "/home/fabio/Faculdade/Tratamento de Dados/Projeto/rep1/Imagens/xo2b/xo2b.0114.fits\n",
      "/home/fabio/Faculdade/Tratamento de Dados/Projeto/rep1/Imagens/xo2b/xo2b.0094.fits\n",
      "/home/fabio/Faculdade/Tratamento de Dados/Projeto/rep1/Imagens/xo2b/xo2b.0218.fits\n",
      "/home/fabio/Faculdade/Tratamento de Dados/Projeto/rep1/Imagens/xo2b/xo2b.0246.fits\n",
      "/home/fabio/Faculdade/Tratamento de Dados/Projeto/rep1/Imagens/xo2b/xo2b.0192.fits\n",
      "/home/fabio/Faculdade/Tratamento de Dados/Projeto/rep1/Imagens/xo2b/xo2b.0028.fits\n",
      "/home/fabio/Faculdade/Tratamento de Dados/Projeto/rep1/Imagens/xo2b/xo2b.0238.fits\n",
      "/home/fabio/Faculdade/Tratamento de Dados/Projeto/rep1/Imagens/xo2b/xo2b.0162.fits\n",
      "/home/fabio/Faculdade/Tratamento de Dados/Projeto/rep1/Imagens/xo2b/flat.B.0002.fits\n",
      "/home/fabio/Faculdade/Tratamento de Dados/Projeto/rep1/Imagens/xo2b/xo2b.0212.fits\n",
      "/home/fabio/Faculdade/Tratamento de Dados/Projeto/rep1/Imagens/xo2b/xo2b.0036.fits\n",
      "/home/fabio/Faculdade/Tratamento de Dados/Projeto/rep1/Imagens/xo2b/xo2b.0046.fits\n",
      "/home/fabio/Faculdade/Tratamento de Dados/Projeto/rep1/Imagens/xo2b/bias.B.0003.fits\n",
      "/home/fabio/Faculdade/Tratamento de Dados/Projeto/rep1/Imagens/xo2b/flat.B.0007.fits\n",
      "/home/fabio/Faculdade/Tratamento de Dados/Projeto/rep1/Imagens/xo2b/xo2b.0166.fits\n",
      "/home/fabio/Faculdade/Tratamento de Dados/Projeto/rep1/Imagens/xo2b/xo2b.0138.fits\n",
      "/home/fabio/Faculdade/Tratamento de Dados/Projeto/rep1/Imagens/xo2b/bias.B.0009.fits\n",
      "/home/fabio/Faculdade/Tratamento de Dados/Projeto/rep1/Imagens/xo2b/xo2b.0256.fits\n",
      "/home/fabio/Faculdade/Tratamento de Dados/Projeto/rep1/Imagens/xo2b/xo2b.0068.fits\n",
      "/home/fabio/Faculdade/Tratamento de Dados/Projeto/rep1/Imagens/xo2b/xo2b.0208.fits\n",
      "/home/fabio/Faculdade/Tratamento de Dados/Projeto/rep1/Imagens/xo2b/flat.B.0008.fits\n",
      "/home/fabio/Faculdade/Tratamento de Dados/Projeto/rep1/Imagens/xo2b/xo2b.0022.fits\n",
      "/home/fabio/Faculdade/Tratamento de Dados/Projeto/rep1/Imagens/xo2b/xo2b.0124.fits\n",
      "/home/fabio/Faculdade/Tratamento de Dados/Projeto/rep1/Imagens/xo2b/xo2b.0010.fits\n",
      "/home/fabio/Faculdade/Tratamento de Dados/Projeto/rep1/Imagens/xo2b/flat.B.0005.fits\n",
      "/home/fabio/Faculdade/Tratamento de Dados/Projeto/rep1/Imagens/xo2b/xo2b.0118.fits\n",
      "/home/fabio/Faculdade/Tratamento de Dados/Projeto/rep1/Imagens/xo2b/xo2b.0146.fits\n",
      "/home/fabio/Faculdade/Tratamento de Dados/Projeto/rep1/Imagens/xo2b/bias.B.0004.fits\n",
      "/home/fabio/Faculdade/Tratamento de Dados/Projeto/rep1/Imagens/xo2b/xo2b.0008.fits\n",
      "/home/fabio/Faculdade/Tratamento de Dados/Projeto/rep1/Imagens/xo2b/xo2b.0156.fits\n",
      "/home/fabio/Faculdade/Tratamento de Dados/Projeto/rep1/Imagens/xo2b/xo2b.0134.fits\n",
      "/home/fabio/Faculdade/Tratamento de Dados/Projeto/rep1/Imagens/xo2b/xo2b.0158.fits\n",
      "/home/fabio/Faculdade/Tratamento de Dados/Projeto/rep1/Imagens/xo2b/xo2b.0248.fits\n",
      "/home/fabio/Faculdade/Tratamento de Dados/Projeto/rep1/Imagens/xo2b/xo2b.0136.fits\n",
      "/home/fabio/Faculdade/Tratamento de Dados/Projeto/rep1/Imagens/xo2b/xo2b.0216.fits\n",
      "/home/fabio/Faculdade/Tratamento de Dados/Projeto/rep1/Imagens/xo2b/xo2b.0072.fits\n",
      "/home/fabio/Faculdade/Tratamento de Dados/Projeto/rep1/Imagens/xo2b/xo2b.0126.fits\n",
      "/home/fabio/Faculdade/Tratamento de Dados/Projeto/rep1/Imagens/xo2b/xo2b.0152.fits\n",
      "/home/fabio/Faculdade/Tratamento de Dados/Projeto/rep1/Imagens/xo2b/xo2b.0074.fits\n",
      "/home/fabio/Faculdade/Tratamento de Dados/Projeto/rep1/Imagens/xo2b/xo2b.0044.fits\n",
      "/home/fabio/Faculdade/Tratamento de Dados/Projeto/rep1/Imagens/xo2b/bias.B.0006.fits\n",
      "/home/fabio/Faculdade/Tratamento de Dados/Projeto/rep1/Imagens/xo2b/xo2b.0092.fits\n",
      "/home/fabio/Faculdade/Tratamento de Dados/Projeto/rep1/Imagens/xo2b/xo2b.0176.fits\n",
      "/home/fabio/Faculdade/Tratamento de Dados/Projeto/rep1/Imagens/xo2b/bias.B.0007.fits\n",
      "/home/fabio/Faculdade/Tratamento de Dados/Projeto/rep1/Imagens/xo2b/xo2b.0172.fits\n",
      "/home/fabio/Faculdade/Tratamento de Dados/Projeto/rep1/Imagens/xo2b/xo2b.0048.fits\n",
      "/home/fabio/Faculdade/Tratamento de Dados/Projeto/rep1/Imagens/xo2b/xo2b.0186.fits\n",
      "/home/fabio/Faculdade/Tratamento de Dados/Projeto/rep1/Imagens/xo2b/xo2b.0164.fits\n",
      "/home/fabio/Faculdade/Tratamento de Dados/Projeto/rep1/Imagens/xo2b/flat.B.0004.fits\n",
      "/home/fabio/Faculdade/Tratamento de Dados/Projeto/rep1/Imagens/xo2b/xo2b.0058.fits\n",
      "/home/fabio/Faculdade/Tratamento de Dados/Projeto/rep1/Imagens/xo2b/xo2b.0168.fits\n",
      "/home/fabio/Faculdade/Tratamento de Dados/Projeto/rep1/Imagens/xo2b/xo2b.0120.fits\n",
      "/home/fabio/Faculdade/Tratamento de Dados/Projeto/rep1/Imagens/xo2b/xo2b.0054.fits\n",
      "/home/fabio/Faculdade/Tratamento de Dados/Projeto/rep1/Imagens/xo2b/xo2b.0052.fits\n",
      "/home/fabio/Faculdade/Tratamento de Dados/Projeto/rep1/Imagens/xo2b/xo2b.0160.fits\n",
      "/home/fabio/Faculdade/Tratamento de Dados/Projeto/rep1/Imagens/xo2b/xo2b.0040.fits\n",
      "/home/fabio/Faculdade/Tratamento de Dados/Projeto/rep1/Imagens/xo2b/xo2b.0050.fits\n",
      "/home/fabio/Faculdade/Tratamento de Dados/Projeto/rep1/Imagens/xo2b/xo2b.0230.fits\n",
      "/home/fabio/Faculdade/Tratamento de Dados/Projeto/rep1/Imagens/xo2b/xo2b.0002.fits\n",
      "/home/fabio/Faculdade/Tratamento de Dados/Projeto/rep1/Imagens/xo2b/xo2b.0014.fits\n",
      "/home/fabio/Faculdade/Tratamento de Dados/Projeto/rep1/Imagens/xo2b/bias.B.0008.fits\n",
      "/home/fabio/Faculdade/Tratamento de Dados/Projeto/rep1/Imagens/xo2b/xo2b.0070.fits\n",
      "/home/fabio/Faculdade/Tratamento de Dados/Projeto/rep1/Imagens/xo2b/xo2b.0220.fits\n",
      "/home/fabio/Faculdade/Tratamento de Dados/Projeto/rep1/Imagens/xo2b/xo2b.0080.fits\n",
      "/home/fabio/Faculdade/Tratamento de Dados/Projeto/rep1/Imagens/xo2b/xo2b.0174.fits\n",
      "/home/fabio/Faculdade/Tratamento de Dados/Projeto/rep1/Imagens/xo2b/xo2b.0062.fits\n",
      "/home/fabio/Faculdade/Tratamento de Dados/Projeto/rep1/Imagens/xo2b/xo2b.0042.fits\n",
      "/home/fabio/Faculdade/Tratamento de Dados/Projeto/rep1/Imagens/xo2b/xo2b.0202.fits\n",
      "/home/fabio/Faculdade/Tratamento de Dados/Projeto/rep1/Imagens/xo2b/xo2b.0258.fits\n",
      "/home/fabio/Faculdade/Tratamento de Dados/Projeto/rep1/Imagens/xo2b/xo2b.0224.fits\n",
      "/home/fabio/Faculdade/Tratamento de Dados/Projeto/rep1/Imagens/xo2b/xo2b.0244.fits\n",
      "/home/fabio/Faculdade/Tratamento de Dados/Projeto/rep1/Imagens/xo2b/xo2b.0222.fits\n",
      "/home/fabio/Faculdade/Tratamento de Dados/Projeto/rep1/Imagens/xo2b/xo2b.0252.fits\n",
      "/home/fabio/Faculdade/Tratamento de Dados/Projeto/rep1/Imagens/xo2b/xo2b.0266.fits\n"
     ]
    }
   ],
   "source": [
    "# Usando o glob pra ler todos os arquivos na pasta\n",
    "\n",
    "path = '/home/fabio/Faculdade/Tratamento de Dados/Projeto/rep1/Imagens/xo2b'\n",
    "\n",
    "files = [f for f in glob.glob(path + \"/*.fits\", recursive=True)]\n",
    "\n",
    "for f in files:\n",
    "    print(f)\n",
    "    \n",
    "# Disso, fica mais fácil, é só botar no laço for, essa separação"
   ]
  },
  {
   "cell_type": "code",
   "execution_count": 6,
   "metadata": {},
   "outputs": [],
   "source": [
    "# Agora vou separar em grupos, primeiro vou criar um pandas dataframe, onde cada coluna tem\n",
    "#a lista de um tipo de imagens.\n",
    "\n",
    "bias = pd.DataFrame()\n",
    "flats = pd.DataFrame()\n",
    "lights = pd.DataFrame()\n",
    "\n",
    "# Agora vou criar as listas, esse \"re\" é só pra vir o nome do arquivo e não do caminho todo\n",
    "#se quiser o caminho todo, basta botar append p f mesmo e tirar essa linha do resplit.\n",
    "\n",
    "for f in files:\n",
    "    hdul=fits.open(f)\n",
    "    if (hdul[0].header['Object']=='zero'):   \n",
    "        s = re.split('\\\\/xo2b/\\\\b',f)[-1]\n",
    "        bias=bias.append([s])\n",
    "    else:\n",
    "        if (hdul[0].header['Object']=='flat'):\n",
    "            s = re.split('\\\\/xo2b/\\\\b',f)[-1]\n",
    "            flats=flats.append([s])\n",
    "        else:\n",
    "            s = re.split('\\\\/xo2b/\\\\b',f)[-1]\n",
    "            lights=lights.append([s])        \n"
   ]
  },
  {
   "cell_type": "code",
   "execution_count": 7,
   "metadata": {},
   "outputs": [
    {
     "data": {
      "text/html": [
       "<div>\n",
       "<style scoped>\n",
       "    .dataframe tbody tr th:only-of-type {\n",
       "        vertical-align: middle;\n",
       "    }\n",
       "\n",
       "    .dataframe tbody tr th {\n",
       "        vertical-align: top;\n",
       "    }\n",
       "\n",
       "    .dataframe thead th {\n",
       "        text-align: right;\n",
       "    }\n",
       "</style>\n",
       "<table border=\"1\" class=\"dataframe\">\n",
       "  <thead>\n",
       "    <tr style=\"text-align: right;\">\n",
       "      <th></th>\n",
       "      <th>0</th>\n",
       "    </tr>\n",
       "  </thead>\n",
       "  <tbody>\n",
       "    <tr>\n",
       "      <th>0</th>\n",
       "      <td>bias.B.0001.fits</td>\n",
       "    </tr>\n",
       "    <tr>\n",
       "      <th>0</th>\n",
       "      <td>bias.B.0002.fits</td>\n",
       "    </tr>\n",
       "    <tr>\n",
       "      <th>0</th>\n",
       "      <td>bias.B.0005.fits</td>\n",
       "    </tr>\n",
       "    <tr>\n",
       "      <th>0</th>\n",
       "      <td>bias.B.0010.fits</td>\n",
       "    </tr>\n",
       "    <tr>\n",
       "      <th>0</th>\n",
       "      <td>bias.B.0003.fits</td>\n",
       "    </tr>\n",
       "    <tr>\n",
       "      <th>0</th>\n",
       "      <td>bias.B.0009.fits</td>\n",
       "    </tr>\n",
       "    <tr>\n",
       "      <th>0</th>\n",
       "      <td>bias.B.0004.fits</td>\n",
       "    </tr>\n",
       "    <tr>\n",
       "      <th>0</th>\n",
       "      <td>bias.B.0006.fits</td>\n",
       "    </tr>\n",
       "    <tr>\n",
       "      <th>0</th>\n",
       "      <td>bias.B.0007.fits</td>\n",
       "    </tr>\n",
       "    <tr>\n",
       "      <th>0</th>\n",
       "      <td>bias.B.0008.fits</td>\n",
       "    </tr>\n",
       "  </tbody>\n",
       "</table>\n",
       "</div>"
      ],
      "text/plain": [
       "                  0\n",
       "0  bias.B.0001.fits\n",
       "0  bias.B.0002.fits\n",
       "0  bias.B.0005.fits\n",
       "0  bias.B.0010.fits\n",
       "0  bias.B.0003.fits\n",
       "0  bias.B.0009.fits\n",
       "0  bias.B.0004.fits\n",
       "0  bias.B.0006.fits\n",
       "0  bias.B.0007.fits\n",
       "0  bias.B.0008.fits"
      ]
     },
     "execution_count": 7,
     "metadata": {},
     "output_type": "execute_result"
    }
   ],
   "source": [
    "bias"
   ]
  },
  {
   "cell_type": "code",
   "execution_count": 8,
   "metadata": {},
   "outputs": [],
   "source": [
    "# se precisasse tirar tudo que é nan\n",
    "\n",
    "bias=bias.dropna()\n",
    "lights=lights.dropna()\n",
    "flats=flats.dropna()\n"
   ]
  },
  {
   "cell_type": "code",
   "execution_count": 9,
   "metadata": {
    "scrolled": true
   },
   "outputs": [],
   "source": [
    "# Por algum motivo que também não sei por que, quando coloco o título na criação do dataframe\n",
    "#ele faz o append em outra coluna, então vou renomear agora.\n",
    "\n",
    "lights.rename(columns={0:'Light_Images'},inplace=True)\n",
    "flats.rename(columns={0:'Flat_Images'},inplace=True)\n",
    "bias.rename(columns={0:'Bias_Images'},inplace=True)\n",
    "\n",
    "# Pronto agora, já tenho os 3 dataframes com a lista de imagens, flats, bias e lights!!\n",
    "# Como digo mais a frente fui por um caminho longo, não precisava disso, era só usar o glob,\n",
    "#mas vou deixar o histórico.\n"
   ]
  },
  {
   "cell_type": "markdown",
   "metadata": {},
   "source": [
    "### LISTA DE IMAGENS, DE FORMA SIMPLES"
   ]
  },
  {
   "cell_type": "code",
   "execution_count": 10,
   "metadata": {},
   "outputs": [],
   "source": [
    "# Fiz as listas, mas vi agora que foi burrice, o glob já listava de maneira mole, não precisava\n",
    "#usar o pandas nem nada, ntão vo\n",
    "\n",
    "# Na verdade era só chamar o caminho aqui direto de bias, mas vou deixar o que fiz lá em cima,\n",
    "#apesqar de ser bem menos eficiente\n",
    "\n",
    "path = '/home/fabio/Faculdade/Tratamento de Dados/Projeto/rep1/Imagens/xo2b'\n",
    "\n",
    "bias = [f for f in glob.glob(path + \"/bias*.fits\", recursive=True)]\n",
    "flats = [f for f in glob.glob(path + \"/flat*.fits\", recursive=True)]\n",
    "lights = [f for f in glob.glob(path + \"/xo2b*.fits\", recursive=True)]\n",
    "\n",
    "# Pronto acima, eu fiz a lista de imagens, mas preciso deixar a lista de bais numa forma que\n",
    "#eu consiga trabalhar com numpy arrays, pra isso o comando abaixo. Pode ver que ele dá 10\n",
    "#arrays, um pra cada imagem. É um cubo de dados, com 3 dimensões.\n",
    "\n",
    "image_concat = [ fits.getdata(image) for image in bias ]"
   ]
  },
  {
   "cell_type": "code",
   "execution_count": 102,
   "metadata": {},
   "outputs": [
    {
     "name": "stdout",
     "output_type": "stream",
     "text": [
      "2.3788452\n"
     ]
    }
   ],
   "source": [
    "print(image_concat[0][100][100])"
   ]
  },
  {
   "cell_type": "code",
   "execution_count": 212,
   "metadata": {
    "scrolled": false
   },
   "outputs": [
    {
     "name": "stdout",
     "output_type": "stream",
     "text": [
      "[[286.38013 285.3817  286.38098 ... 313.5254  319.52502 319.47437]\n",
      " [285.3806  285.38135 286.3811  ... 311.52594 314.52594 314.47577]\n",
      " [289.38    285.37927 283.38074 ... 316.52643 313.52533 313.4773 ]\n",
      " ...\n",
      " [287.61078 285.61127 286.6115  ... 313.00348 315.003   315.05353]\n",
      " [288.60974 285.61023 286.61047 ... 315.0041  317.00336 317.05353]\n",
      " [284.6101  284.60938 284.60986 ... 316.00507 313.00507 313.0536 ]]\n",
      "[286.38013 285.3817  286.38098 ... 313.5254  319.52502 319.47437]\n",
      "[286.38013 285.3817  286.38098 ... 313.5254  319.52502 319.47437]\n"
     ]
    }
   ],
   "source": [
    "#Pode ver que o primeiro índice vai de 0 a 9 e é o número de imagens\n",
    "\n",
    "print(image_concat[0])\n",
    "\n",
    "# O segundo já é uma das dimensões de pixels, vimos lá em cima já que é 1365 por 1365 então\n",
    "#ambos índices vão até 1364\n",
    "\n",
    "print(image_concat[0][0])\n",
    "\n",
    "# Por fim na última dimensão vemos que só terá um número\n",
    "\n",
    "print(image_concat[0][0])\n",
    "\n",
    "# Então, temos que combinar cada pixel 10 vezes, sendo que a segunda e terceira dimensão vão até\n",
    "#1364, vamos fazer um laço, mas antes vamos criar um vetor vazio bidimensional, com zeros.\n",
    "# Repare que quando se vai chamar zero conta, assim vai até 1364, mas nessa função zeros, \n",
    "#começa no 1, por isso botei 1365.\n",
    "\n",
    "master_bias = zeros([1365,1365])\n",
    "\n",
    "# Pronto, agora tenho que transformar os valores desse vetor nas medianas, indo de 0 a 1364,\n",
    "#assim tenho que fazer um laço pra tirar a mediana de cada combinação [varia 1 a 10][0 a 1364]\n",
    "#[0 a 1364]. Vou usar o laço while. Lembrando que a primeira dimensão do median é a segunda \n",
    "#das imagens, e a segunda é a terceira. Nesse caso como o que eu vou variar é a primeira \n",
    "#dimensão, só deixar \":\" (é preciso deixar isso pra ele entender que é a segunda e terceira\n",
    "#dimensão do cubo de dados que varia, ele combina na mediana na primeira dimensão).\n",
    "\n",
    "# Fiquei muito tempo penando, porque a fórmula abaixo comentada tá com \":\" e isso dá bug,\n",
    "#ele entende trocado os campos, por isso tive que citar todas as imagens em vez de usar \":\".\n",
    "\n",
    "b=0\n",
    "c=0\n",
    "while b<1365:\n",
    "    c=0\n",
    "    while c<1365:\n",
    "        #master_bias[b][c]=np.median(image_concat[:][b][c])\n",
    "        master_bias[b][c]=np.median((image_concat[0][b][c],image_concat[1][b][c],image_concat[2][b][c],image_concat[3][b][c],image_concat[4][b][c],image_concat[5][b][c],image_concat[6][b][c],image_concat[7][b][c],image_concat[8][b][c],image_concat[9][b][c]))\n",
    "        c=c+1  \n",
    "    b=b+1\n"
   ]
  },
  {
   "cell_type": "code",
   "execution_count": 222,
   "metadata": {},
   "outputs": [
    {
     "data": {
      "text/plain": [
       "(1365, 1365)"
      ]
     },
     "execution_count": 222,
     "metadata": {},
     "output_type": "execute_result"
    }
   ],
   "source": [
    "# Vou checar o tamanho, como pode ver tem 1365 por 1365, tá certo.\n",
    "\n",
    "master_bias.shape"
   ]
  },
  {
   "cell_type": "code",
   "execution_count": 221,
   "metadata": {},
   "outputs": [
    {
     "data": {
      "text/plain": [
       "<matplotlib.colorbar.Colorbar at 0x7f4eb3ea9278>"
      ]
     },
     "execution_count": 221,
     "metadata": {},
     "output_type": "execute_result"
    },
    {
     "data": {
      "image/png": "[encoded data removed]",
      "text/plain": [
       "<Figure size 432x288 with 2 Axes>"
      ]
     },
     "metadata": {},
     "output_type": "display_data"
    }
   ],
   "source": [
    "# Enfim, esse é meu master bias\n",
    "# Estranho estar branco\n",
    "\n",
    "plt.imshow(master_bias,cmap='Greys')\n",
    "plt.colorbar()"
   ]
  }
 ],
 "metadata": {
  "kernelspec": {
   "display_name": "Python 3",
   "language": "python",
   "name": "python3"
  },
  "language_info": {
   "codemirror_mode": {
    "name": "ipython",
    "version": 3
   },
   "file_extension": ".py",
   "mimetype": "text/x-python",
   "name": "python",
   "nbconvert_exporter": "python",
   "pygments_lexer": "ipython3",
   "version": "3.6.5"
  }
 },
 "nbformat": 4,
 "nbformat_minor": 2
}
